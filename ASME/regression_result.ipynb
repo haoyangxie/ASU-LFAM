{
 "cells": [
  {
   "cell_type": "code",
   "execution_count": 23,
   "metadata": {},
   "outputs": [],
   "source": [
    "import numpy as np\n",
    "from scipy.optimize import curve_fit\n",
    "from scipy.optimize import Bounds\n",
    "from scipy.optimize import minimize\n",
    "from sklearn.metrics import mean_squared_error, mean_absolute_error, r2_score\n",
    "import matplotlib.pyplot as plt"
   ]
  },
  {
   "cell_type": "code",
   "execution_count": 24,
   "metadata": {},
   "outputs": [],
   "source": [
    "def exponential_model(x, a, b, c):\n",
    "    \"\"\"curve fit model\"\"\"\n",
    "    return a*np.exp(-b*x) + c"
   ]
  },
  {
   "cell_type": "code",
   "execution_count": 25,
   "metadata": {},
   "outputs": [],
   "source": [
    "def prediction_regression(data_list):\n",
    "    \"\"\"regression for the transformer's output, to avoid overflow, divide input by 100\"\"\"\n",
    "    x = range(len(data_list))\n",
    "    params, covariance = curve_fit(exponential_model, x, data_list/100.0)\n",
    "    return params"
   ]
  },
  {
   "cell_type": "code",
   "execution_count": 26,
   "metadata": {},
   "outputs": [
    {
     "name": "stdout",
     "output_type": "stream",
     "text": [
      "935\n"
     ]
    }
   ],
   "source": [
    "data = np.loadtxt('./Inference_source/table_inference.txt')\n",
    "data = data[2:]\n",
    "num_points = len(data)\n",
    "print(num_points)"
   ]
  },
  {
   "cell_type": "code",
   "execution_count": 27,
   "metadata": {},
   "outputs": [],
   "source": [
    "for i in range(num_points):\n",
    "    if len(data[i]) != 120:\n",
    "        print(\"yes\")"
   ]
  },
  {
   "cell_type": "code",
   "execution_count": 28,
   "metadata": {},
   "outputs": [
    {
     "name": "stdout",
     "output_type": "stream",
     "text": [
      "Overall MSE: 2.693500567121919\n",
      "Overall RMSE: 1.635520984321629\n",
      "Overall MAE: 1.3075923692048583\n",
      "Overall R²: 0.9952624838157086\n"
     ]
    }
   ],
   "source": [
    "mse_values = []\n",
    "rmse_values = []\n",
    "mae_values = []\n",
    "r2_values = []\n",
    "\n",
    "for i in range(num_points):\n",
    "    a, b, c = prediction_regression(data[i])\n",
    "    t_list = []\n",
    "    for t in range(len(data[i])):\n",
    "        t_list.append(exponential_model(t, a, b, c) * 100)\n",
    "    \n",
    "    # plt.scatter(range(len(data[i])), data[i],label='Predictions', c='blue')\n",
    "    # plt.plot(t_list, label='Post-regression Predictions', c='red')\n",
    "    # ax = plt.gca()\n",
    "    # ax.spines['top'].set_visible(False)\n",
    "    # ax.spines['right'].set_visible(False)\n",
    "    # plt.xlim(0,120)\n",
    "    # # plt.ylim(0,190)\n",
    "    # locs, labels = plt.xticks()\n",
    "\n",
    "    # plt.xticks(locs, [int(loc * 2) for loc in locs])\n",
    "\n",
    "    # plt.xlabel('Time(s)', fontsize=16)\n",
    "    # plt.ylabel('Surface temperature(°C)', fontsize=16)\n",
    "    # plt.xticks(fontsize=16)\n",
    "    # plt.yticks(fontsize=16)\n",
    "    # plt.legend()\n",
    "    # plt.tight_layout()\n",
    "    # plt.savefig('regression_example.png')\n",
    "    # plt.show()\n",
    "    # plt.clf()\n",
    "    mse = mean_squared_error(data[i], t_list)\n",
    "    rmse = np.sqrt(mse)\n",
    "    mae = mean_absolute_error(data[i], t_list)\n",
    "    r2 = r2_score(data[i], t_list)\n",
    "    mse_values.append(mse)\n",
    "    rmse_values.append(rmse)\n",
    "    mae_values.append(mae)\n",
    "    r2_values.append(r2)\n",
    "\n",
    "\n",
    "overall_mse = np.mean(mse_values)\n",
    "overall_rmse = np.mean(rmse_values)\n",
    "overall_mae = np.mean(mae_values)\n",
    "overall_r2 = np.mean(r2_values)\n",
    "\n",
    "print(f\"Overall MSE: {overall_mse}\")\n",
    "print(f\"Overall RMSE: {overall_rmse}\")\n",
    "print(f\"Overall MAE: {overall_mae}\")\n",
    "print(f\"Overall R²: {overall_r2}\")\n",
    "       "
   ]
  },
  {
   "cell_type": "code",
   "execution_count": 29,
   "metadata": {},
   "outputs": [
    {
     "data": {
      "text/plain": [
       "935"
      ]
     },
     "execution_count": 29,
     "metadata": {},
     "output_type": "execute_result"
    }
   ],
   "source": [
    "num_points"
   ]
  },
  {
   "cell_type": "code",
   "execution_count": 30,
   "metadata": {},
   "outputs": [],
   "source": [
    "mse_values = []\n",
    "rmse_values = []\n",
    "mae_values = []\n",
    "r2_values = []\n",
    "tl = []\n",
    "\n",
    "for i in range(num_points):\n",
    "    a, b, c = prediction_regression(data[i])\n",
    "    t_list = []\n",
    "    for t in range(len(data[i])):\n",
    "        t_list.append(exponential_model(t, a, b, c) * 100)\n",
    "    tl.append(t_list)\n",
    "    # squared_differences = (data[i] - ground_truth[i]) ** 2\n",
    "    # mse = np.mean(squared_differences)\n",
    "    # rounded_mse = round(mse, 2)\n",
    "    # all_mse += rounded_mse/120.0\n",
    "    # mse = mean_squared_error(data[i], t_list)\n",
    "    \n",
    "    # rmse = np.sqrt(mse)\n",
    "    # mae = mean_absolute_error(data[i], t_list)\n",
    "    # r2 = r2_score(data[i], t_list)\n",
    "    # mse_values.append(mse)\n",
    "    # rmse_values.append(rmse)\n",
    "    # mae_values.append(mae)\n",
    "    # r2_values.append(r2)\n",
    "\n",
    "\n",
    "# overall_mse = np.mean(mse_values)\n",
    "# overall_rmse = np.mean(rmse_values)\n",
    "# overall_mae = np.mean(mae_values)\n",
    "# overall_r2 = np.mean(r2_values)\n",
    "\n",
    "# print(f\"Overall MSE: {overall_mse}\")\n",
    "# print(f\"Overall RMSE: {overall_rmse}\")\n",
    "# print(f\"Overall MAE: {overall_mae}\")\n",
    "# print(f\"Overall R²: {overall_r2}\")\n",
    "       "
   ]
  },
  {
   "cell_type": "code",
   "execution_count": 31,
   "metadata": {},
   "outputs": [
    {
     "name": "stdout",
     "output_type": "stream",
     "text": [
      "mse 0.02244572192513369\n"
     ]
    }
   ],
   "source": [
    "\n",
    "all_mse = 0\n",
    "\n",
    "for i in range(len(tl)):\n",
    "    squared_differences = (data[i] - tl[i]) ** 2\n",
    "    mse = np.mean(squared_differences)\n",
    "    rounded_mse = round(mse, 2)\n",
    "    all_mse += rounded_mse/120.0\n",
    "\n",
    "average_mse = all_mse/len(tl)\n",
    "print('mse',average_mse)"
   ]
  },
  {
   "cell_type": "code",
   "execution_count": 32,
   "metadata": {},
   "outputs": [
    {
     "data": {
      "text/plain": [
       "0.14981896383680435"
      ]
     },
     "execution_count": 32,
     "metadata": {},
     "output_type": "execute_result"
    }
   ],
   "source": [
    "np.sqrt(average_mse) "
   ]
  }
 ],
 "metadata": {
  "kernelspec": {
   "display_name": "YOLO8",
   "language": "python",
   "name": "python3"
  },
  "language_info": {
   "codemirror_mode": {
    "name": "ipython",
    "version": 3
   },
   "file_extension": ".py",
   "mimetype": "text/x-python",
   "name": "python",
   "nbconvert_exporter": "python",
   "pygments_lexer": "ipython3",
   "version": "3.9.18"
  }
 },
 "nbformat": 4,
 "nbformat_minor": 2
}
