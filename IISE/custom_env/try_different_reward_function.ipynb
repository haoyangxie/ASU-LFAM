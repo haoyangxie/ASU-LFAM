{
 "cells": [
  {
   "cell_type": "markdown",
   "metadata": {},
   "source": [
    "### To adapt hard constraint env, we need to keep reward for temp_diff in 30 > 0"
   ]
  },
  {
   "cell_type": "code",
   "execution_count": 1,
   "metadata": {},
   "outputs": [],
   "source": [
    "import numpy as np"
   ]
  },
  {
   "cell_type": "code",
   "execution_count": 11,
   "metadata": {},
   "outputs": [],
   "source": [
    "# 0-30 above 0\n",
    "def reward1(temp_diff):\n",
    "    return 5-10*(temp_diff/30)"
   ]
  },
  {
   "cell_type": "code",
   "execution_count": 3,
   "metadata": {},
   "outputs": [],
   "source": [
    "def sigmoid(x):\n",
    "    return 1 / (1 + np.exp(-x + 10))"
   ]
  },
  {
   "cell_type": "code",
   "execution_count": 4,
   "metadata": {},
   "outputs": [],
   "source": [
    "def softplus(x):\n",
    "        return np.log(1 + np.exp(x))"
   ]
  },
  {
   "cell_type": "code",
   "execution_count": null,
   "metadata": {},
   "outputs": [],
   "source": []
  },
  {
   "cell_type": "code",
   "execution_count": null,
   "metadata": {},
   "outputs": [],
   "source": []
  },
  {
   "cell_type": "code",
   "execution_count": 15,
   "metadata": {},
   "outputs": [
    {
     "name": "stdout",
     "output_type": "stream",
     "text": [
      "4.306852819440055\n",
      "3.6867383124817774\n",
      "2.8730719889570273\n",
      "1.951412648426258\n",
      "0.9818500720821906\n",
      "-0.006715348489118256\n",
      "-1.00247568513773\n",
      "-2.0009114664537737\n",
      "-3.000335406372896\n",
      "-4.000123402189724\n",
      "-5.000045398899218\n",
      "-6.000016701561318\n",
      "-7.0000061441934776\n",
      "-8.000002260326852\n",
      "-9.000000831528373\n",
      "-10.000000305902274\n",
      "-11.000000112535169\n",
      "-12.000000041399375\n",
      "-13.000000015229979\n",
      "-14.000000005602796\n",
      "-15.000000002061153\n",
      "-16.000000000758256\n",
      "-17.00000000027895\n",
      "-18.00000000010262\n",
      "-19.00000000003775\n",
      "-20.000000000013888\n",
      "-21.00000000000511\n",
      "-22.00000000000188\n",
      "-23.000000000000693\n",
      "-24.000000000000256\n"
     ]
    }
   ],
   "source": [
    "for i in range(30):\n",
    "    print(5-softplus(i))"
   ]
  },
  {
   "cell_type": "code",
   "execution_count": null,
   "metadata": {},
   "outputs": [],
   "source": []
  }
 ],
 "metadata": {
  "kernelspec": {
   "display_name": "ICRA",
   "language": "python",
   "name": "python3"
  },
  "language_info": {
   "codemirror_mode": {
    "name": "ipython",
    "version": 3
   },
   "file_extension": ".py",
   "mimetype": "text/x-python",
   "name": "python",
   "nbconvert_exporter": "python",
   "pygments_lexer": "ipython3",
   "version": "3.9.19"
  }
 },
 "nbformat": 4,
 "nbformat_minor": 2
}
